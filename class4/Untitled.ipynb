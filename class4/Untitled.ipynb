{
 "cells": [
  {
   "cell_type": "code",
   "execution_count": 5,
   "metadata": {
    "collapsed": false
   },
   "outputs": [
    {
     "ename": "SyntaxError",
     "evalue": "invalid syntax (<ipython-input-5-50866b4e6e83>, line 3)",
     "output_type": "error",
     "traceback": [
      "\u001b[0;36m  File \u001b[0;32m\"<ipython-input-5-50866b4e6e83>\"\u001b[0;36m, line \u001b[0;32m3\u001b[0m\n\u001b[0;31m    read 'u.item' into 'movies'\u001b[0m\n\u001b[0m                ^\u001b[0m\n\u001b[0;31mSyntaxError\u001b[0m\u001b[0;31m:\u001b[0m invalid syntax\n"
     ]
    }
   ],
   "source": [
    "import pandas as pd\n",
    "\n",
    "read 'u.item' into 'movies'\n",
    "movie_cols = ['movie_id', 'title']\n",
    "movies = pd.read_table('u.item', sep='|', header=None, names=movie_cols, usecols=[0, 1])\n",
    "\"\"\"\n",
    "# read 'u.data' into 'ratings'\n",
    "rating_cols = ['user_id', 'movie_id', 'rating', 'timestamp']\n",
    "ratings = pd.read_table('u.data', sep='\\t', header=None, names=rating_cols)\n",
    "\n",
    "# merge 'movies' and 'ratings' (inner join on 'movie_id')\n",
    "movie_ratings = pd.merge(movies, ratings)\n",
    "movies.shape\n",
    "ratings.shape\n",
    "movie_ratings.shape\n",
    "\"\"\"\n"
   ]
  },
  {
   "cell_type": "code",
   "execution_count": null,
   "metadata": {
    "collapsed": true
   },
   "outputs": [],
   "source": []
  }
 ],
 "metadata": {
  "kernelspec": {
   "display_name": "Python 2",
   "language": "python",
   "name": "python2"
  },
  "language_info": {
   "codemirror_mode": {
    "name": "ipython",
    "version": 2
   },
   "file_extension": ".py",
   "mimetype": "text/x-python",
   "name": "python",
   "nbconvert_exporter": "python",
   "pygments_lexer": "ipython2",
   "version": "2.7.10"
  }
 },
 "nbformat": 4,
 "nbformat_minor": 0
}
