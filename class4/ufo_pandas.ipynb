{
 "cells": [
  {
   "cell_type": "code",
   "execution_count": 1,
   "metadata": {
    "collapsed": true
   },
   "outputs": [],
   "source": [
    "import pandas as pd\n",
    "ufo = pd.read_csv('ufo.csv')"
   ]
  },
  {
   "cell_type": "code",
   "execution_count": 6,
   "metadata": {
    "collapsed": false
   },
   "outputs": [
    {
     "data": {
      "text/plain": [
       "(80543, 5)"
      ]
     },
     "execution_count": 6,
     "metadata": {},
     "output_type": "execute_result"
    }
   ],
   "source": [
    "# rename any columns with spaces so that they don't contain spaces\n",
    "ufo.rename(columns={'City':'city', 'Colors Reported':'colors_reported', 'Shape Reported':'shape_reported', 'State':'state', 'Time':'time'}, inplace=True)\n",
    "#Through loop comprehension [col for col in ufo.columns], this will just give a list.\n",
    "#[col.replace(\" \",\"_\") for col in ufo.columns]\n",
    "ufo.shape"
   ]
  },
  {
   "cell_type": "code",
   "execution_count": 14,
   "metadata": {
    "collapsed": false
   },
   "outputs": [
    {
     "data": {
      "text/plain": [
       "ORANGE    5216\n",
       "RED       4809\n",
       "GREEN     1897\n",
       "dtype: int64"
      ]
     },
     "execution_count": 14,
     "metadata": {},
     "output_type": "execute_result"
    }
   ],
   "source": [
    "# what are the three most common colors reported?\n",
    "ufo.colors_reported.value_counts().head(n=3)"
   ]
  },
  {
   "cell_type": "code",
   "execution_count": 15,
   "metadata": {
    "collapsed": false
   },
   "outputs": [
    {
     "data": {
      "text/plain": [
       "Virginia Beach    110\n",
       "Richmond           92\n",
       "Alexandria         48\n",
       "Roanoke            35\n",
       "Chesapeake         33\n",
       "dtype: int64"
      ]
     },
     "execution_count": 15,
     "metadata": {},
     "output_type": "execute_result"
    }
   ],
   "source": [
    "# for reports in VA, what's the most common city?\n",
    "ufo.city[ufo.state == \"VA\"].value_counts().head()\n"
   ]
  },
  {
   "cell_type": "code",
   "execution_count": 5,
   "metadata": {
    "collapsed": false
   },
   "outputs": [
    {
     "data": {
      "text/html": [
       "<div>\n",
       "<table border=\"1\" class=\"dataframe\">\n",
       "  <thead>\n",
       "    <tr style=\"text-align: right;\">\n",
       "      <th></th>\n",
       "      <th>city</th>\n",
       "      <th>colors_reported</th>\n",
       "      <th>shape_reported</th>\n",
       "      <th>state</th>\n",
       "      <th>time</th>\n",
       "    </tr>\n",
       "  </thead>\n",
       "  <tbody>\n",
       "    <tr>\n",
       "      <th>202</th>\n",
       "      <td>Arlington</td>\n",
       "      <td>GREEN</td>\n",
       "      <td>OVAL</td>\n",
       "      <td>VA</td>\n",
       "      <td>7/13/1952 21:00</td>\n",
       "    </tr>\n",
       "    <tr>\n",
       "      <th>6300</th>\n",
       "      <td>Arlington</td>\n",
       "      <td>NaN</td>\n",
       "      <td>CHEVRON</td>\n",
       "      <td>VA</td>\n",
       "      <td>5/5/1990 21:40</td>\n",
       "    </tr>\n",
       "    <tr>\n",
       "      <th>10278</th>\n",
       "      <td>Arlington</td>\n",
       "      <td>NaN</td>\n",
       "      <td>DISK</td>\n",
       "      <td>VA</td>\n",
       "      <td>5/27/1997 15:30</td>\n",
       "    </tr>\n",
       "    <tr>\n",
       "      <th>14527</th>\n",
       "      <td>Arlington</td>\n",
       "      <td>NaN</td>\n",
       "      <td>OTHER</td>\n",
       "      <td>VA</td>\n",
       "      <td>9/10/1999 21:41</td>\n",
       "    </tr>\n",
       "    <tr>\n",
       "      <th>17984</th>\n",
       "      <td>Arlington</td>\n",
       "      <td>RED</td>\n",
       "      <td>DISK</td>\n",
       "      <td>VA</td>\n",
       "      <td>11/19/2000 22:00</td>\n",
       "    </tr>\n",
       "    <tr>\n",
       "      <th>21201</th>\n",
       "      <td>Arlington</td>\n",
       "      <td>GREEN</td>\n",
       "      <td>FIREBALL</td>\n",
       "      <td>VA</td>\n",
       "      <td>1/7/2002 17:45</td>\n",
       "    </tr>\n",
       "    <tr>\n",
       "      <th>22633</th>\n",
       "      <td>Arlington</td>\n",
       "      <td>NaN</td>\n",
       "      <td>LIGHT</td>\n",
       "      <td>VA</td>\n",
       "      <td>7/26/2002 1:15</td>\n",
       "    </tr>\n",
       "    <tr>\n",
       "      <th>22780</th>\n",
       "      <td>Arlington</td>\n",
       "      <td>NaN</td>\n",
       "      <td>LIGHT</td>\n",
       "      <td>VA</td>\n",
       "      <td>8/7/2002 21:00</td>\n",
       "    </tr>\n",
       "    <tr>\n",
       "      <th>25066</th>\n",
       "      <td>Arlington</td>\n",
       "      <td>NaN</td>\n",
       "      <td>CIGAR</td>\n",
       "      <td>VA</td>\n",
       "      <td>6/1/2003 22:34</td>\n",
       "    </tr>\n",
       "    <tr>\n",
       "      <th>27398</th>\n",
       "      <td>Arlington</td>\n",
       "      <td>NaN</td>\n",
       "      <td>VARIOUS</td>\n",
       "      <td>VA</td>\n",
       "      <td>12/13/2003 2:00</td>\n",
       "    </tr>\n",
       "    <tr>\n",
       "      <th>30608</th>\n",
       "      <td>Arlington</td>\n",
       "      <td>NaN</td>\n",
       "      <td>CIRCLE</td>\n",
       "      <td>VA</td>\n",
       "      <td>10/9/2004 22:30</td>\n",
       "    </tr>\n",
       "    <tr>\n",
       "      <th>31316</th>\n",
       "      <td>Arlington</td>\n",
       "      <td>NaN</td>\n",
       "      <td>FORMATION</td>\n",
       "      <td>VA</td>\n",
       "      <td>12/13/2004 0:30</td>\n",
       "    </tr>\n",
       "    <tr>\n",
       "      <th>35787</th>\n",
       "      <td>Arlington</td>\n",
       "      <td>NaN</td>\n",
       "      <td>LIGHT</td>\n",
       "      <td>VA</td>\n",
       "      <td>3/15/2006 22:30</td>\n",
       "    </tr>\n",
       "    <tr>\n",
       "      <th>37036</th>\n",
       "      <td>Arlington</td>\n",
       "      <td>NaN</td>\n",
       "      <td>TRIANGLE</td>\n",
       "      <td>VA</td>\n",
       "      <td>8/1/2006 22:00</td>\n",
       "    </tr>\n",
       "    <tr>\n",
       "      <th>39673</th>\n",
       "      <td>Arlington</td>\n",
       "      <td>NaN</td>\n",
       "      <td>LIGHT</td>\n",
       "      <td>VA</td>\n",
       "      <td>4/7/2007 18:45</td>\n",
       "    </tr>\n",
       "    <tr>\n",
       "      <th>41083</th>\n",
       "      <td>Arlington</td>\n",
       "      <td>NaN</td>\n",
       "      <td>FLASH</td>\n",
       "      <td>VA</td>\n",
       "      <td>8/15/2007 1:30</td>\n",
       "    </tr>\n",
       "    <tr>\n",
       "      <th>44562</th>\n",
       "      <td>Arlington</td>\n",
       "      <td>NaN</td>\n",
       "      <td>TRIANGLE</td>\n",
       "      <td>VA</td>\n",
       "      <td>6/6/2008 21:55</td>\n",
       "    </tr>\n",
       "    <tr>\n",
       "      <th>45450</th>\n",
       "      <td>Arlington</td>\n",
       "      <td>NaN</td>\n",
       "      <td>OVAL</td>\n",
       "      <td>VA</td>\n",
       "      <td>8/2/2008 20:30</td>\n",
       "    </tr>\n",
       "    <tr>\n",
       "      <th>48679</th>\n",
       "      <td>Arlington</td>\n",
       "      <td>NaN</td>\n",
       "      <td>SPHERE</td>\n",
       "      <td>VA</td>\n",
       "      <td>4/24/2009 17:45</td>\n",
       "    </tr>\n",
       "    <tr>\n",
       "      <th>54613</th>\n",
       "      <td>Arlington</td>\n",
       "      <td>NaN</td>\n",
       "      <td>LIGHT</td>\n",
       "      <td>VA</td>\n",
       "      <td>9/17/2010 19:00</td>\n",
       "    </tr>\n",
       "    <tr>\n",
       "      <th>54944</th>\n",
       "      <td>Arlington</td>\n",
       "      <td>NaN</td>\n",
       "      <td>SPHERE</td>\n",
       "      <td>VA</td>\n",
       "      <td>10/12/2010 19:00</td>\n",
       "    </tr>\n",
       "    <tr>\n",
       "      <th>70462</th>\n",
       "      <td>Arlington</td>\n",
       "      <td>NaN</td>\n",
       "      <td>FIREBALL</td>\n",
       "      <td>VA</td>\n",
       "      <td>6/25/2013 23:00</td>\n",
       "    </tr>\n",
       "    <tr>\n",
       "      <th>72856</th>\n",
       "      <td>Arlington</td>\n",
       "      <td>RED</td>\n",
       "      <td>SPHERE</td>\n",
       "      <td>VA</td>\n",
       "      <td>9/26/2013 21:20</td>\n",
       "    </tr>\n",
       "    <tr>\n",
       "      <th>73408</th>\n",
       "      <td>Arlington</td>\n",
       "      <td>NaN</td>\n",
       "      <td>CIRCLE</td>\n",
       "      <td>VA</td>\n",
       "      <td>10/19/2013 0:17</td>\n",
       "    </tr>\n",
       "    <tr>\n",
       "      <th>73747</th>\n",
       "      <td>Arlington</td>\n",
       "      <td>NaN</td>\n",
       "      <td>LIGHT</td>\n",
       "      <td>VA</td>\n",
       "      <td>11/1/2013 22:42</td>\n",
       "    </tr>\n",
       "    <tr>\n",
       "      <th>76144</th>\n",
       "      <td>Arlington</td>\n",
       "      <td>NaN</td>\n",
       "      <td>CIGAR</td>\n",
       "      <td>VA</td>\n",
       "      <td>2/21/2014 14:30</td>\n",
       "    </tr>\n",
       "    <tr>\n",
       "      <th>76325</th>\n",
       "      <td>Arlington</td>\n",
       "      <td>NaN</td>\n",
       "      <td>NaN</td>\n",
       "      <td>VA</td>\n",
       "      <td>3/1/2014 20:00</td>\n",
       "    </tr>\n",
       "    <tr>\n",
       "      <th>76337</th>\n",
       "      <td>Arlington</td>\n",
       "      <td>NaN</td>\n",
       "      <td>FORMATION</td>\n",
       "      <td>VA</td>\n",
       "      <td>3/1/2014 23:30</td>\n",
       "    </tr>\n",
       "    <tr>\n",
       "      <th>77807</th>\n",
       "      <td>Arlington</td>\n",
       "      <td>RED ORANGE</td>\n",
       "      <td>LIGHT</td>\n",
       "      <td>VA</td>\n",
       "      <td>5/24/2014 22:30</td>\n",
       "    </tr>\n",
       "    <tr>\n",
       "      <th>79122</th>\n",
       "      <td>Arlington</td>\n",
       "      <td>NaN</td>\n",
       "      <td>CIRCLE</td>\n",
       "      <td>VA</td>\n",
       "      <td>7/7/2014 21:00</td>\n",
       "    </tr>\n",
       "  </tbody>\n",
       "</table>\n",
       "</div>"
      ],
      "text/plain": [
       "            city colors_reported shape_reported state              time\n",
       "202    Arlington           GREEN           OVAL    VA   7/13/1952 21:00\n",
       "6300   Arlington             NaN        CHEVRON    VA    5/5/1990 21:40\n",
       "10278  Arlington             NaN           DISK    VA   5/27/1997 15:30\n",
       "14527  Arlington             NaN          OTHER    VA   9/10/1999 21:41\n",
       "17984  Arlington             RED           DISK    VA  11/19/2000 22:00\n",
       "21201  Arlington           GREEN       FIREBALL    VA    1/7/2002 17:45\n",
       "22633  Arlington             NaN          LIGHT    VA    7/26/2002 1:15\n",
       "22780  Arlington             NaN          LIGHT    VA    8/7/2002 21:00\n",
       "25066  Arlington             NaN          CIGAR    VA    6/1/2003 22:34\n",
       "27398  Arlington             NaN        VARIOUS    VA   12/13/2003 2:00\n",
       "30608  Arlington             NaN         CIRCLE    VA   10/9/2004 22:30\n",
       "31316  Arlington             NaN      FORMATION    VA   12/13/2004 0:30\n",
       "35787  Arlington             NaN          LIGHT    VA   3/15/2006 22:30\n",
       "37036  Arlington             NaN       TRIANGLE    VA    8/1/2006 22:00\n",
       "39673  Arlington             NaN          LIGHT    VA    4/7/2007 18:45\n",
       "41083  Arlington             NaN          FLASH    VA    8/15/2007 1:30\n",
       "44562  Arlington             NaN       TRIANGLE    VA    6/6/2008 21:55\n",
       "45450  Arlington             NaN           OVAL    VA    8/2/2008 20:30\n",
       "48679  Arlington             NaN         SPHERE    VA   4/24/2009 17:45\n",
       "54613  Arlington             NaN          LIGHT    VA   9/17/2010 19:00\n",
       "54944  Arlington             NaN         SPHERE    VA  10/12/2010 19:00\n",
       "70462  Arlington             NaN       FIREBALL    VA   6/25/2013 23:00\n",
       "72856  Arlington             RED         SPHERE    VA   9/26/2013 21:20\n",
       "73408  Arlington             NaN         CIRCLE    VA   10/19/2013 0:17\n",
       "73747  Arlington             NaN          LIGHT    VA   11/1/2013 22:42\n",
       "76144  Arlington             NaN          CIGAR    VA   2/21/2014 14:30\n",
       "76325  Arlington             NaN            NaN    VA    3/1/2014 20:00\n",
       "76337  Arlington             NaN      FORMATION    VA    3/1/2014 23:30\n",
       "77807  Arlington      RED ORANGE          LIGHT    VA   5/24/2014 22:30\n",
       "79122  Arlington             NaN         CIRCLE    VA    7/7/2014 21:00"
      ]
     },
     "execution_count": 5,
     "metadata": {},
     "output_type": "execute_result"
    }
   ],
   "source": [
    "# print a DataFrame containing only reports from Arlington, VA\n",
    "ufo[(ufo.city == \"Arlington\") & (ufo.state == \"VA\")]\n",
    "#Add .shape to check whether the df size matches the count from above"
   ]
  },
  {
   "cell_type": "code",
   "execution_count": 19,
   "metadata": {
    "collapsed": false
   },
   "outputs": [
    {
     "data": {
      "text/plain": [
       "city                  47\n",
       "colors_reported    63509\n",
       "shape_reported      8402\n",
       "state                  0\n",
       "time                   0\n",
       "dtype: int64"
      ]
     },
     "execution_count": 19,
     "metadata": {},
     "output_type": "execute_result"
    }
   ],
   "source": [
    "# count the number of missing values in each column\n",
    "# ufo.isnull() this will give you the dataframe with booleans indicating whether the value is NaN\n",
    "ufo.isnull().sum() #This gives the sum of NaN values in each column. Add another .sum() to get the total cells missing\n"
   ]
  },
  {
   "cell_type": "code",
   "execution_count": 31,
   "metadata": {
    "collapsed": false
   },
   "outputs": [
    {
     "data": {
      "text/plain": [
       "15510"
      ]
     },
     "execution_count": 31,
     "metadata": {},
     "output_type": "execute_result"
    }
   ],
   "source": [
    "# how many rows remain if you drop all rows with any missing values?\n",
    "#15,510 rows\n",
    "#ufo[(ufo.city.isnull()== False) & (ufo.colors_reported.isnull()== False) & (ufo.shape_reported.isnull()== False)]\n",
    "ufo.dropna().shape[0] #Easier way to ignore rows that have a null cell"
   ]
  },
  {
   "cell_type": "code",
   "execution_count": null,
   "metadata": {
    "collapsed": true
   },
   "outputs": [],
   "source": []
  }
 ],
 "metadata": {
  "kernelspec": {
   "display_name": "Python 2",
   "language": "python",
   "name": "python2"
  },
  "language_info": {
   "codemirror_mode": {
    "name": "ipython",
    "version": 2
   },
   "file_extension": ".py",
   "mimetype": "text/x-python",
   "name": "python",
   "nbconvert_exporter": "python",
   "pygments_lexer": "ipython2",
   "version": "2.7.10"
  }
 },
 "nbformat": 4,
 "nbformat_minor": 0
}
